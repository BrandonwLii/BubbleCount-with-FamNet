{
 "cells": [
  {
   "cell_type": "code",

   "execution_count": null,

   "id": "90101142",
   "metadata": {},
   "outputs": [
    {
     "ename": "ImportError",
     "evalue": "cannot import name '_imaging' from 'PIL' (c:\\Users\\libr3\\Desktop\\Summer_2025\\fellowship 2025\\test\\BubbleCount-with-FamNet\\.venv\\Lib\\site-packages\\PIL\\__init__.py)",
     "output_type": "error",
     "traceback": [
      "\u001b[31m---------------------------------------------------------------------------\u001b[39m",
      "\u001b[31mImportError\u001b[39m                               Traceback (most recent call last)",
      "\u001b[36mCell\u001b[39m\u001b[36m \u001b[39m\u001b[32mIn[3]\u001b[39m\u001b[32m, line 1\u001b[39m\n\u001b[32m----> \u001b[39m\u001b[32m1\u001b[39m \u001b[38;5;28;01mimport\u001b[39;00m\u001b[38;5;250m \u001b[39m\u001b[34;01mBubbleCount\u001b[39;00m\u001b[34;01m.\u001b[39;00m\u001b[34;01mimage_preprocess\u001b[39;00m\u001b[38;5;250m \u001b[39m\u001b[38;5;28;01mas\u001b[39;00m\u001b[38;5;250m \u001b[39m\u001b[34;01mimage_preprocess\u001b[39;00m\n\u001b[32m      2\u001b[39m \u001b[38;5;28;01mimport\u001b[39;00m\u001b[38;5;250m \u001b[39m\u001b[34;01mBubbleCount\u001b[39;00m\u001b[34;01m.\u001b[39;00m\u001b[34;01mcsv_helpers\u001b[39;00m\u001b[38;5;250m \u001b[39m\u001b[38;5;28;01mas\u001b[39;00m\u001b[38;5;250m \u001b[39m\u001b[34;01mcsv_helpers\u001b[39;00m\n\u001b[32m      3\u001b[39m \u001b[38;5;28;01mfrom\u001b[39;00m\u001b[38;5;250m \u001b[39m\u001b[34;01mBubbleCount\u001b[39;00m\u001b[34;01m.\u001b[39;00m\u001b[34;01mpost_processing\u001b[39;00m\u001b[38;5;250m \u001b[39m\u001b[38;5;28;01mimport\u001b[39;00m get_normalized_mse\n",
      "\u001b[36mFile \u001b[39m\u001b[32mc:\\Users\\libr3\\Desktop\\Summer_2025\\fellowship 2025\\test\\BubbleCount-with-FamNet\\BubbleCount\\__init__.py:2\u001b[39m\n\u001b[32m      1\u001b[39m \u001b[38;5;28;01mfrom\u001b[39;00m\u001b[38;5;250m \u001b[39m\u001b[34;01m.\u001b[39;00m\u001b[38;5;250m \u001b[39m\u001b[38;5;28;01mimport\u001b[39;00m csv_helpers\n\u001b[32m----> \u001b[39m\u001b[32m2\u001b[39m \u001b[38;5;28;01mfrom\u001b[39;00m\u001b[38;5;250m \u001b[39m\u001b[34;01m.\u001b[39;00m\u001b[38;5;250m \u001b[39m\u001b[38;5;28;01mimport\u001b[39;00m image_preprocess\n\u001b[32m      3\u001b[39m \u001b[38;5;28;01mfrom\u001b[39;00m\u001b[38;5;250m \u001b[39m\u001b[34;01m.\u001b[39;00m\u001b[38;5;250m \u001b[39m\u001b[38;5;28;01mimport\u001b[39;00m counting_model\n\u001b[32m      4\u001b[39m \u001b[38;5;28;01mfrom\u001b[39;00m\u001b[38;5;250m \u001b[39m\u001b[34;01m.\u001b[39;00m\u001b[38;5;250m \u001b[39m\u001b[38;5;28;01mimport\u001b[39;00m post_processing\n",
      "\u001b[36mFile \u001b[39m\u001b[32mc:\\Users\\libr3\\Desktop\\Summer_2025\\fellowship 2025\\test\\BubbleCount-with-FamNet\\BubbleCount\\image_preprocess.py:1\u001b[39m\n\u001b[32m----> \u001b[39m\u001b[32m1\u001b[39m \u001b[38;5;28;01mfrom\u001b[39;00m\u001b[38;5;250m \u001b[39m\u001b[34;01mPIL\u001b[39;00m\u001b[38;5;250m \u001b[39m\u001b[38;5;28;01mimport\u001b[39;00m Image, ImageDraw\n\u001b[32m      2\u001b[39m \u001b[38;5;28;01mimport\u001b[39;00m\u001b[38;5;250m \u001b[39m\u001b[34;01mos\u001b[39;00m\n\u001b[32m      3\u001b[39m \u001b[38;5;28;01mimport\u001b[39;00m\u001b[38;5;250m \u001b[39m\u001b[34;01mcopy\u001b[39;00m\n",
      "\u001b[36mFile \u001b[39m\u001b[32mc:\\Users\\libr3\\Desktop\\Summer_2025\\fellowship 2025\\test\\BubbleCount-with-FamNet\\.venv\\Lib\\site-packages\\PIL\\Image.py:103\u001b[39m\n\u001b[32m     94\u001b[39m MAX_IMAGE_PIXELS = \u001b[38;5;28mint\u001b[39m(\u001b[32m1024\u001b[39m * \u001b[32m1024\u001b[39m * \u001b[32m1024\u001b[39m // \u001b[32m4\u001b[39m // \u001b[32m3\u001b[39m)\n\u001b[32m     97\u001b[39m \u001b[38;5;28;01mtry\u001b[39;00m:\n\u001b[32m     98\u001b[39m     \u001b[38;5;66;03m# If the _imaging C module is not present, Pillow will not load.\u001b[39;00m\n\u001b[32m     99\u001b[39m     \u001b[38;5;66;03m# Note that other modules should not refer to _imaging directly;\u001b[39;00m\n\u001b[32m    100\u001b[39m     \u001b[38;5;66;03m# import Image and use the Image.core variable instead.\u001b[39;00m\n\u001b[32m    101\u001b[39m     \u001b[38;5;66;03m# Also note that Image.core is not a publicly documented interface,\u001b[39;00m\n\u001b[32m    102\u001b[39m     \u001b[38;5;66;03m# and should be considered private and subject to change.\u001b[39;00m\n\u001b[32m--> \u001b[39m\u001b[32m103\u001b[39m     \u001b[38;5;28;01mfrom\u001b[39;00m\u001b[38;5;250m \u001b[39m\u001b[34;01m.\u001b[39;00m\u001b[38;5;250m \u001b[39m\u001b[38;5;28;01mimport\u001b[39;00m _imaging \u001b[38;5;28;01mas\u001b[39;00m core\n\u001b[32m    105\u001b[39m     \u001b[38;5;28;01mif\u001b[39;00m __version__ != \u001b[38;5;28mgetattr\u001b[39m(core, \u001b[33m\"\u001b[39m\u001b[33mPILLOW_VERSION\u001b[39m\u001b[33m\"\u001b[39m, \u001b[38;5;28;01mNone\u001b[39;00m):\n\u001b[32m    106\u001b[39m         msg = (\n\u001b[32m    107\u001b[39m             \u001b[33m\"\u001b[39m\u001b[33mThe _imaging extension was built for another version of Pillow or PIL:\u001b[39m\u001b[38;5;130;01m\\n\u001b[39;00m\u001b[33m\"\u001b[39m\n\u001b[32m    108\u001b[39m             \u001b[33mf\u001b[39m\u001b[33m\"\u001b[39m\u001b[33mCore version: \u001b[39m\u001b[38;5;132;01m{\u001b[39;00m\u001b[38;5;28mgetattr\u001b[39m(core,\u001b[38;5;250m \u001b[39m\u001b[33m'\u001b[39m\u001b[33mPILLOW_VERSION\u001b[39m\u001b[33m'\u001b[39m,\u001b[38;5;250m \u001b[39m\u001b[38;5;28;01mNone\u001b[39;00m)\u001b[38;5;132;01m}\u001b[39;00m\u001b[38;5;130;01m\\n\u001b[39;00m\u001b[33m\"\u001b[39m\n\u001b[32m    109\u001b[39m             \u001b[33mf\u001b[39m\u001b[33m\"\u001b[39m\u001b[33mPillow version: \u001b[39m\u001b[38;5;132;01m{\u001b[39;00m__version__\u001b[38;5;132;01m}\u001b[39;00m\u001b[33m\"\u001b[39m\n\u001b[32m    110\u001b[39m         )\n",
      "\u001b[31mImportError\u001b[39m: cannot import name '_imaging' from 'PIL' (c:\\Users\\libr3\\Desktop\\Summer_2025\\fellowship 2025\\test\\BubbleCount-with-FamNet\\.venv\\Lib\\site-packages\\PIL\\__init__.py)"
     ]
    }
   ],
   "source": [
    "import BubbleCount.image_preprocess as image_preprocess\n",
    "import BubbleCount.csv_helpers as csv_helpers\n",
    "\n",
    "import csv\n",
    "%matplotlib inline"
   ]
  },
  {
   "cell_type": "code",
   "execution_count": null,
   "id": "5ca36317",
   "metadata": {},
   "outputs": [],
   "source": [
    "from BubbleCount.counting_model import CountingPipe\n",
    "model = CountingPipe()  # Only really need the count_hybrid() function in this notebook"
   ]
  },
  {
   "cell_type": "code",
   "execution_count": null,
   "id": "109aca62",
   "metadata": {},
   "outputs": [],
   "source": [
    "args = {\n",
    "    \"sample_path\": \"./Exemplars/\",\n",
    "    \"target_path\": \"./2025/Targets\", # cropped images\n",
    "    \"result_path\": \"./2025/Outputs/out.csv\", # csv containing counts\n",
    "    \"output_dir\": \"./2025/Outputs/\", # output images\n",
    "    \"model_path\": \"./data/pretrainedModels/FamNet_Save1.pth\",\n",
    "    \"raw_img_dir\": \"./2025/Images/SEN10_1.8_6_300-400\" # images to be cropped\n",
    "}"
   ]
  },
  {
   "cell_type": "code",
   "execution_count": null,
   "id": "8546a1b5",
   "metadata": {},
   "outputs": [],
   "source": [
    "# Crop images to AOI\n",
    "image_preprocess.crop_to_interest(image_dir=args[\"raw_img_dir\"],region=[65, 770, 1090, 970],output_dir=args[\"target_path\"])"
   ]
  },
  {
   "cell_type": "code",
   "execution_count": null,
   "id": "7a5a110e",
   "metadata": {},
   "outputs": [],
   "source": [
    "def simplify_target_name(target):\n",
    "    temp = target.split('_')[1:-1]\n",
    "    temp = '_'.join(temp)\n",
    "    serial_number = temp.split('.')[-1]\n",
    "    batch_name = '.'.join(temp.split('.')[0:-2])\n",
    "\n",
    "    return f\"{batch_name}_{serial_number}\""
   ]
  },
  {
   "cell_type": "code",
   "execution_count": null,
   "id": "90e8990c",
   "metadata": {},
   "outputs": [],
   "source": [
    "result_to_csv = []\n",
    "\n",
    "# Load exemplars and targets\n",
    "Exemplars = image_preprocess.load_exemplars_from_directory(args[\"sample_path\"], reverse_bbox=False)\n",
    "Targets = image_preprocess.load_target_images_from_directory(args[\"target_path\"])\n",
    "\n",
    "sample_image = Exemplars[1]\n",
    "\n",
    "csv_helpers.backup_and_clear_csv(args[\"result_path\"])\n",
    "\n",
    "with open(args[\"result_path\"], 'w', newline='') as csvfile:\n",
    "    writer = csv.writer(csvfile)\n",
    "    writer.writerow([\"Exemplar\", \"num_exemps\", \"rev_bbox\", \"Target\", \"Count\"])\n",
    "\n",
    "    total = len(Targets)\n",
    "    count = 0\n",
    "    \n",
    "    for target_image in Targets:\n",
    "        num_exemps = 4\n",
    "        # Creating the hybrid\n",
    "        hybrid, hybrid_boxes = image_preprocess.insert_cropped(sample_image['image'], target_image['image'], sample_image['box'], num_exemps)\n",
    "        target_name = f\"{simplify_target_name(target_image['file_name'])}_{num_exemps}exemps\"\n",
    "\n",
    "        # counting\n",
    "        hybrid_count = model.count_hybrid_and_visualize_separate(hybrid, hybrid_boxes, sample_image[\"file_name\"], target_name,output_directory=args[\"output_dir\"])\n",
    "\n",
    "        result_to_csv.append([sample_image['file_name'], num_exemps, False, target_name, hybrid_count])\n",
    "\n",
    "        # append to csv\n",
    "        writer.writerows(result_to_csv)\n",
    "\n",
    "        count = count + 1\n",
    "        print(f\"Visualized: {count}/{total}\")\n",
    "\n",
    "print(f\"The counts are saved to {args['result_path']}.\")"
   ]
  },
  {
   "cell_type": "code",
   "execution_count": null,
   "id": "d15b8bca",
   "metadata": {},
   "outputs": [],
   "source": [
    "import cv2\n",
    "import os\n",
    "\n",
    "# Generate videos from images\n",
    "dir = \"Overlaid\" # \"Density\" or \"Graphs\" or \"Overlaid\"\n",
    "fps = 10\n",
    "\n",
    "input_folder = f'{args[\"output_dir\"]}{dir}/'\n",
    "\n",
    "print(input_folder)\n",
    "\n",
    "# Get the list of image files in the input folder\n",
    "image_files = sorted([f for f in os.listdir(input_folder) if f.endswith('.jpg') or f.endswith('.png')])\n",
    "\n",
    "# Read the first image to get its dimensions\n",
    "first_image = cv2.imread(os.path.join(input_folder, image_files[0]))\n",
    "height, width, _ = first_image.shape\n",
    "\n",
    "# Create a VideoWriter object to save the video\n",
    "fourcc = cv2.VideoWriter_fourcc(*'mp4v')  # Specify the codec for the output video file\n",
    "video = cv2.VideoWriter(f\"{input_folder}video.mp4\", fourcc, fps, (width, height))\n",
    "\n",
    "# Iterate over each image and write it to the video\n",
    "for image_file in image_files:\n",
    "    print(image_file)\n",
    "    image_path = os.path.join(input_folder, image_file)\n",
    "    frame = cv2.imread(image_path)\n",
    "    video.write(frame)\n",
    "\n",
    "# Release the video writer and close the video file\n",
    "video.release()\n",
    "cv2.destroyAllWindows()\n"
   ]
  }
 ],
 "metadata": {
  "kernelspec": {
   "display_name": ".venv",
   "language": "python",
   "name": "python3"
  },
  "language_info": {
   "codemirror_mode": {
    "name": "ipython",
    "version": 3
   },
   "file_extension": ".py",
   "mimetype": "text/x-python",
   "name": "python",
   "nbconvert_exporter": "python",
   "pygments_lexer": "ipython3",
   "version": "3.12.11"
  }
 },
 "nbformat": 4,
 "nbformat_minor": 5
}
