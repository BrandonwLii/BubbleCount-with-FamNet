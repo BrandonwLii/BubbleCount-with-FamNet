{
 "cells": [
  {
   "cell_type": "code",
   "execution_count": 8,
   "id": "90101142",
   "metadata": {},
   "outputs": [],
   "source": [
    "import BubbleCount.image_preprocess as image_preprocess\n",
    "import BubbleCount.csv_helpers as csv_helpers\n",
    "from BubbleCount.post_processing import get_normalized_mse\n",
    "\n",
    "import numpy as np\n",
    "import pandas as pd\n",
    "import matplotlib.pyplot as plt\n",
    "import seaborn as sns\n",
    "from PIL import Image, ImageDraw\n",
    "import csv\n",
    "import psutil\n",
    "import os\n",
    "%matplotlib inline"
   ]
  },
  {
   "cell_type": "code",
   "execution_count": 9,
   "id": "5ca36317",
   "metadata": {},
   "outputs": [
    {
     "name": "stdout",
     "output_type": "stream",
     "text": [
      "===> Using CPU mode.\n",
      "\n"
     ]
    }
   ],
   "source": [
    "from BubbleCount.counting_model import CountingPipe\n",
    "model = CountingPipe()  # Only really need the count_hybrid() function in this notebook"
   ]
  },
  {
   "cell_type": "code",
   "execution_count": 10,
   "id": "109aca62",
   "metadata": {},
   "outputs": [],
   "source": [
    "args = {\n",
    "    \"sample_path\": \"./Exemplars/\",\n",
    "    \"target_path\": \"./2025/Targets\",\n",
    "    \"result_path\": \"./2025/Outputs/out.csv\",\n",
    "    \"output_dir\": \"./2025/Outputs/\",\n",
    "    \"model_path\": \"./data/pretrainedModels/FamNet_Save1.pth\",\n",
    "    \"raw_img_dir\": \"./2025/Images/SEN10_1.8_6_300-400\"\n",
    "}"
   ]
  },
  {
   "cell_type": "code",
   "execution_count": 11,
   "id": "8546a1b5",
   "metadata": {},
   "outputs": [],
   "source": [
    "# Crop images to AOI\n",
    "# image_preprocess.crop_to_interest(image_dir=args[\"raw_img_dir\"],region=[65, 770, 1090, 970],output_dir=args[\"target_path\"])"
   ]
  },
  {
   "cell_type": "code",
   "execution_count": 12,
   "id": "7a5a110e",
   "metadata": {},
   "outputs": [],
   "source": [
    "def simplify_target_name(target):\n",
    "    temp = target.split('_')[1:-1]\n",
    "    temp = '_'.join(temp)\n",
    "    serial_number = temp.split('.')[-1]\n",
    "    batch_name = '.'.join(temp.split('.')[0:-2])\n",
    "\n",
    "    return f\"{batch_name}_{serial_number}\""
   ]
  },
  {
   "cell_type": "code",
   "execution_count": null,
   "id": "90e8990c",
   "metadata": {},
   "outputs": [],
   "source": [
    "result_to_csv = []\n",
    "\n",
    "# Memory leak tracker\n",
    "\n",
    "# Load exemplars and targets\n",
    "Exemplars = image_preprocess.load_exemplars_from_directory(args[\"sample_path\"], reverse_bbox=False)\n",
    "Targets = image_preprocess.load_target_images_from_directory(args[\"target_path\"])\n",
    "\n",
    "sample_image = Exemplars[1]\n",
    "\n",
    "csv_helpers.backup_and_clear_csv(args[\"result_path\"])\n",
    "\n",
    "process = psutil.Process(os.getpid())\n",
    "\n",
    "\n",
    "with open(args[\"result_path\"], 'w', newline='') as csvfile:\n",
    "    writer = csv.writer(csvfile)\n",
    "    writer.writerow([\"Exemplar\", \"num_exemps\", \"rev_bbox\", \"Target\", \"Count\"])\n",
    "\n",
    "    base_memory_usage = process.memory_info().rss\n",
    "    last_mem = base_memory_usage\n",
    "    \n",
    "    for target_image in Targets:\n",
    "        num_exemps = 4\n",
    "        # Creating the hybrid\n",
    "        hybrid, hybrid_boxes = image_preprocess.insert_cropped(sample_image['image'], target_image['image'], sample_image['box'], num_exemps)\n",
    "        target_name = f\"{simplify_target_name(target_image['file_name'])}_{num_exemps}exemps\"\n",
    "\n",
    "        # counting\n",
    "        hybrid_count = model.count_hybrid_and_visualize(hybrid, hybrid_boxes, sample_image[\"file_name\"], target_name,output_directory=args[\"output_dir\"])\n",
    "\n",
    "        result_to_csv.append([sample_image['file_name'], num_exemps, False, target_name, hybrid_count])\n",
    "\n",
    "        # append to csv\n",
    "        writer.writerows(result_to_csv)\n",
    "\n",
    "        # track memory leaks\n",
    "        memory_usage = process.memory_info().rss\n",
    "        loop_memory_usage = memory_usage - base_memory_usage\n",
    "\n",
    "        mem_diff = loop_memory_usage - last_mem\n",
    "\n",
    "        last_mem = loop_memory_usage\n",
    "\n",
    "        print(f\"Memory Gain Since Starting:{loop_memory_usage} (Difference: {mem_diff})\")\n",
    "\n",
    "print(f\"The counts are saved to {args['result_path']}.\")"
   ]
  }
 ],
 "metadata": {
  "kernelspec": {
   "display_name": "bubblecount-with-famnet",
   "language": "python",
   "name": "python3"
  },
  "language_info": {
   "codemirror_mode": {
    "name": "ipython",
    "version": 3
   },
   "file_extension": ".py",
   "mimetype": "text/x-python",
   "name": "python",
   "nbconvert_exporter": "python",
   "pygments_lexer": "ipython3",
   "version": "3.10.7"
  }
 },
 "nbformat": 4,
 "nbformat_minor": 5
}
